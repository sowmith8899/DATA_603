{
 "cells": [
  {
   "cell_type": "markdown",
   "id": "ef92b653-52af-4f8d-8815-b994291bbac4",
   "metadata": {},
   "source": [
    "Importing Required Libraries"
   ]
  },
  {
   "cell_type": "code",
   "execution_count": 1,
   "id": "a14b2ef2-5353-43f6-82a9-01cbde0eec5c",
   "metadata": {
    "tags": []
   },
   "outputs": [],
   "source": [
    "import time\n",
    "import socket\n",
    "import requests"
   ]
  },
  {
   "cell_type": "code",
   "execution_count": null,
   "id": "424d3a62-5f35-4602-8f66-57be39dc58a4",
   "metadata": {
    "tags": []
   },
   "outputs": [],
   "source": [
    "HOST = '127.0.0.1'  # Standard loopback interface address (localhost)\n",
    "PORT = 22223        \n",
    "\n",
    "#current start time\n",
    "start=time.time()\n",
    "\n",
    "# defining time for one hour (3600 secs)\n",
    "sec=60\n",
    "\n",
    "#opening connection to the json \n",
    "with socket.socket(socket.AF_INET, socket.SOCK_STREAM) as s:\n",
    "    s.bind((HOST, PORT))\n",
    "    s.listen()\n",
    "    conn, addr = s.accept()\n",
    "    with conn:\n",
    "        print('Connected by', addr)\n",
    "        while time.time() < start + sec:\n",
    "                data = requests.get('http://api.open-notify.org/iss-now.json').text\n",
    "                conn.sendall(str.encode(data+'\\n'))\n",
    "                time.sleep(5)"
   ]
  },
  {
   "cell_type": "code",
   "execution_count": null,
   "id": "4e63fbe0-9a8f-4675-9d24-3cbae1686111",
   "metadata": {},
   "outputs": [],
   "source": []
  }
 ],
 "metadata": {
  "kernelspec": {
   "display_name": "Python 3 (ipykernel)",
   "language": "python",
   "name": "python3"
  },
  "language_info": {
   "codemirror_mode": {
    "name": "ipython",
    "version": 3
   },
   "file_extension": ".py",
   "mimetype": "text/x-python",
   "name": "python",
   "nbconvert_exporter": "python",
   "pygments_lexer": "ipython3",
   "version": "3.10.9"
  }
 },
 "nbformat": 4,
 "nbformat_minor": 5
}
