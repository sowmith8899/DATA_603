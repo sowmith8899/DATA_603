{
 "cells": [
  {
   "cell_type": "markdown",
   "id": "026acdf9-233e-407e-9f0e-f96dfa9fb293",
   "metadata": {},
   "source": [
    "Importing Required Libraries"
   ]
  },
  {
   "cell_type": "code",
   "execution_count": 1,
   "id": "1f8c6acc-3333-450f-9561-47668adfdbeb",
   "metadata": {
    "tags": []
   },
   "outputs": [],
   "source": [
    "from email import message\n",
    "import socket\n",
    "import matplotlib.pyplot as plt\n",
    "import json\n",
    "import pandas as pd\n",
    "import ast\n",
    "from pyspark.sql import SparkSession\n",
    "from pyspark.sql.functions import explode, col\n",
    "from pyspark.sql.functions import split\n",
    "from datetime import datetime\n",
    "import plotly.express as px\n",
    "import plotly.io as pio"
   ]
  },
  {
   "cell_type": "code",
   "execution_count": 11,
   "id": "d2d7cea8-24b9-475b-bf46-1edf493c318e",
   "metadata": {
    "tags": []
   },
   "outputs": [],
   "source": [
    "#taking the server name and port name\n",
    "HOST = '127.0.0.1'\n",
    "PORT = 22223"
   ]
  },
  {
   "cell_type": "code",
   "execution_count": 12,
   "id": "aa852f3d-1979-4938-aa35-6cbb67270767",
   "metadata": {
    "tags": []
   },
   "outputs": [
    {
     "ename": "ConnectionRefusedError",
     "evalue": "[Errno 111] Connection refused",
     "output_type": "error",
     "traceback": [
      "\u001b[0;31m---------------------------------------------------------------------------\u001b[0m",
      "\u001b[0;31mConnectionRefusedError\u001b[0m                    Traceback (most recent call last)",
      "Cell \u001b[0;32mIn[12], line 10\u001b[0m\n\u001b[1;32m      8\u001b[0m df\u001b[38;5;241m=\u001b[39mpd\u001b[38;5;241m.\u001b[39mDataFrame()\n\u001b[1;32m      9\u001b[0m \u001b[38;5;66;03m#connecting and fetching data from the api that we started by producer\u001b[39;00m\n\u001b[0;32m---> 10\u001b[0m \u001b[43ms\u001b[49m\u001b[38;5;241;43m.\u001b[39;49m\u001b[43mconnect\u001b[49m\u001b[43m(\u001b[49m\u001b[43m(\u001b[49m\u001b[43mHOST\u001b[49m\u001b[43m,\u001b[49m\u001b[43m \u001b[49m\u001b[43mPORT\u001b[49m\u001b[43m)\u001b[49m\u001b[43m)\u001b[49m\n\u001b[1;32m     11\u001b[0m msg \u001b[38;5;241m=\u001b[39m s\u001b[38;5;241m.\u001b[39mrecv(\u001b[38;5;241m1024\u001b[39m)\n\u001b[1;32m     13\u001b[0m \u001b[38;5;66;03m#fetching and printing data of api\u001b[39;00m\n",
      "\u001b[0;31mConnectionRefusedError\u001b[0m: [Errno 111] Connection refused"
     ]
    }
   ],
   "source": [
    "#creating variables to load our variables from json\n",
    "Timestamp=[]\n",
    "Longitude=[]\n",
    "Latitude=[]\n",
    "\n",
    "#creating a socket at client side\n",
    "s = socket.socket(socket.AF_INET,socket.SOCK_STREAM)\n",
    "df=pd.DataFrame()\n",
    "#connecting and fetching data from the api that we started by producer\n",
    "s.connect((HOST, PORT))\n",
    "msg = s.recv(1024)\n",
    "\n",
    "#fetching and printing data of api\n",
    "while msg:\n",
    "    row=ast.literal_eval(msg.decode(\"UTF-8\"))\n",
    "    msg = s.recv(1024)\n",
    "    print(row)\n",
    "    Timestamp.append(row['timestamp'])\n",
    "    Latitude.append(float(row['iss_position']['latitude']))\n",
    "    Longitude.append(float(row['iss_position']['longitude']))\n",
    "    \n",
    "s.close()\n",
    "\n",
    "\n",
    "    "
   ]
  },
  {
   "cell_type": "code",
   "execution_count": 13,
   "id": "e38a520c-710d-4fed-b477-641e4e8688bc",
   "metadata": {
    "tags": []
   },
   "outputs": [
    {
     "data": {
      "text/html": [
       "<div>\n",
       "<style scoped>\n",
       "    .dataframe tbody tr th:only-of-type {\n",
       "        vertical-align: middle;\n",
       "    }\n",
       "\n",
       "    .dataframe tbody tr th {\n",
       "        vertical-align: top;\n",
       "    }\n",
       "\n",
       "    .dataframe thead th {\n",
       "        text-align: right;\n",
       "    }\n",
       "</style>\n",
       "<table border=\"1\" class=\"dataframe\">\n",
       "  <thead>\n",
       "    <tr style=\"text-align: right;\">\n",
       "      <th></th>\n",
       "      <th>Timestamp</th>\n",
       "      <th>Latitude</th>\n",
       "      <th>Longitude</th>\n",
       "    </tr>\n",
       "  </thead>\n",
       "  <tbody>\n",
       "  </tbody>\n",
       "</table>\n",
       "</div>"
      ],
      "text/plain": [
       "Empty DataFrame\n",
       "Columns: [Timestamp, Latitude, Longitude]\n",
       "Index: []"
      ]
     },
     "execution_count": 13,
     "metadata": {},
     "output_type": "execute_result"
    }
   ],
   "source": [
    "#creating a dataframe from the data we fetched\n",
    "df= pd.DataFrame({'Timestamp': Timestamp,'Latitude': Latitude,'Longitude': Longitude})\n",
    "df"
   ]
  },
  {
   "cell_type": "code",
   "execution_count": 14,
   "id": "596be2ca-008c-4892-acb3-27f540f3f542",
   "metadata": {
    "tags": []
   },
   "outputs": [
    {
     "data": {
      "text/plain": [
       "Timestamp    float64\n",
       "Latitude     float64\n",
       "Longitude    float64\n",
       "dtype: object"
      ]
     },
     "execution_count": 14,
     "metadata": {},
     "output_type": "execute_result"
    }
   ],
   "source": [
    "df.dtypes"
   ]
  },
  {
   "cell_type": "code",
   "execution_count": 15,
   "id": "ad90c807-64af-4e23-8a04-1530d108e3e8",
   "metadata": {
    "tags": []
   },
   "outputs": [],
   "source": [
    "#converting timestamp to date and time format readable by users\n",
    "df['Timestamp'] =  pd.to_datetime(df['Timestamp'], unit='s')\n",
    "df['Time'] = df['Timestamp'].dt.time"
   ]
  },
  {
   "cell_type": "code",
   "execution_count": 16,
   "id": "ad0f673c-a6c9-4d57-97f5-23262233c189",
   "metadata": {
    "tags": []
   },
   "outputs": [
    {
     "data": {
      "text/html": [
       "<div>\n",
       "<style scoped>\n",
       "    .dataframe tbody tr th:only-of-type {\n",
       "        vertical-align: middle;\n",
       "    }\n",
       "\n",
       "    .dataframe tbody tr th {\n",
       "        vertical-align: top;\n",
       "    }\n",
       "\n",
       "    .dataframe thead th {\n",
       "        text-align: right;\n",
       "    }\n",
       "</style>\n",
       "<table border=\"1\" class=\"dataframe\">\n",
       "  <thead>\n",
       "    <tr style=\"text-align: right;\">\n",
       "      <th></th>\n",
       "      <th>Timestamp</th>\n",
       "      <th>Latitude</th>\n",
       "      <th>Longitude</th>\n",
       "      <th>Time</th>\n",
       "    </tr>\n",
       "  </thead>\n",
       "  <tbody>\n",
       "  </tbody>\n",
       "</table>\n",
       "</div>"
      ],
      "text/plain": [
       "Empty DataFrame\n",
       "Columns: [Timestamp, Latitude, Longitude, Time]\n",
       "Index: []"
      ]
     },
     "execution_count": 16,
     "metadata": {},
     "output_type": "execute_result"
    }
   ],
   "source": [
    "df"
   ]
  },
  {
   "cell_type": "code",
   "execution_count": 18,
   "id": "83a86847-e27e-4590-8073-7f2dfd9ec754",
   "metadata": {
    "tags": []
   },
   "outputs": [
    {
     "data": {
      "text/html": [
       "<iframe\n",
       "    scrolling=\"no\"\n",
       "    width=\"1020px\"\n",
       "    height=\"1020\"\n",
       "    src=\"iframe_figures/figure_18.html\"\n",
       "    frameborder=\"0\"\n",
       "    allowfullscreen\n",
       "></iframe>\n"
      ]
     },
     "metadata": {},
     "output_type": "display_data"
    }
   ],
   "source": [
    "#Plotting the graph\n",
    "fig = px.scatter_geo(df,lat='Latitude',lon='Longitude', hover_name=\"Timestamp\", projection=\"fahey\")\n",
    "fig.update_layout(title = 'ISS Location for 1 Hour', title_x=0.5, height=1000, width=1000)\n",
    "pio.renderers.default = 'iframe'\n",
    "\n",
    "fig.show()\n",
    "\n",
    "#exporting the figure to local\n",
    "fig.write_image(\"iss_60min.png\")\n",
    "fig.write_html(\"iss_60min.html\")"
   ]
  },
  {
   "cell_type": "code",
   "execution_count": null,
   "id": "66c0fa18-3076-47f8-80c6-7518c04ce823",
   "metadata": {},
   "outputs": [],
   "source": []
  }
 ],
 "metadata": {
  "kernelspec": {
   "display_name": "Python 3 (ipykernel)",
   "language": "python",
   "name": "python3"
  },
  "language_info": {
   "codemirror_mode": {
    "name": "ipython",
    "version": 3
   },
   "file_extension": ".py",
   "mimetype": "text/x-python",
   "name": "python",
   "nbconvert_exporter": "python",
   "pygments_lexer": "ipython3",
   "version": "3.10.9"
  }
 },
 "nbformat": 4,
 "nbformat_minor": 5
}
