{
 "cells": [
  {
   "cell_type": "markdown",
   "id": "c66f47f3-d286-4f98-b53c-95a5749eff14",
   "metadata": {},
   "source": [
    "## Assignment - 3\n",
    "### Crime Investigators"
   ]
  },
  {
   "cell_type": "markdown",
   "id": "220eef56-b4ea-4ab6-bc55-01103602ab7e",
   "metadata": {},
   "source": [
    "- **Importing required libraires**"
   ]
  },
  {
   "cell_type": "code",
   "execution_count": 1,
   "id": "b3a9eec0-bacd-4a18-bed3-810f4c6e8987",
   "metadata": {
    "tags": []
   },
   "outputs": [],
   "source": [
    "import pyspark \n",
    "from pyspark.sql import SparkSession\n",
    "from pyspark.sql.types import StructType,StructField,StringType,IntegerType,DateType,BooleanType,DoubleType,TimestampType\n",
    "import pyspark.sql.functions as F\n",
    "from pyspark.sql.functions import *\n",
    "import matplotlib.pyplot as plt\n",
    "import seaborn as sns"
   ]
  },
  {
   "cell_type": "markdown",
   "id": "8ebc89de-5ecd-4838-bb06-a0b0bd6ad39d",
   "metadata": {},
   "source": [
    "**1. Create a Spark session**"
   ]
  },
  {
   "cell_type": "code",
   "execution_count": 2,
   "id": "8ba0a8f5-8c11-488e-88b8-f0f69c3ebd57",
   "metadata": {
    "tags": []
   },
   "outputs": [],
   "source": [
    "spark = SparkSession.builder.appName('hw3').getOrCreate()"
   ]
  },
  {
   "cell_type": "markdown",
   "id": "fc55d6b7-e76d-454c-8bb8-fd2673e8d920",
   "metadata": {},
   "source": [
    "**2.Define the schema for loading the Chicago crime dataset (https://data.cityofchicago.org/Public-Safety/Crimes-2001-to-Present/ijzp-q8t2/data).**"
   ]
  },
  {
   "cell_type": "code",
   "execution_count": 3,
   "id": "b109480c-34c6-49b6-8eda-725ac0cfccdb",
   "metadata": {},
   "outputs": [],
   "source": [
    "schema = StructType([StructField(\"ID\", StringType(), True),\n",
    "                            StructField(\"CaseNumber\", StringType(), True),\n",
    "                            StructField(\"Date\", StringType(), True ),\n",
    "                            StructField(\"Block\", StringType(), True),\n",
    "                            StructField(\"IUCR\", StringType(), True),\n",
    "                            StructField(\"PrimaryType\", StringType(), True  ),\n",
    "                            StructField(\"Description\", StringType(), True ),\n",
    "                            StructField(\"LocationDescription\", StringType(), True ),\n",
    "                            StructField(\"Arrest\", BooleanType(), True),\n",
    "                            StructField(\"Domestic\", BooleanType(), True),\n",
    "                            StructField(\"Beat\", StringType(), True),\n",
    "                            StructField(\"District\", StringType(), True),\n",
    "                            StructField(\"Ward\", StringType(), True),\n",
    "                            StructField(\"CommunityArea\", StringType(), True),\n",
    "                            StructField(\"FBICode\", StringType(), True ),\n",
    "                            StructField(\"XCoordinate\", DoubleType(), True),\n",
    "                            StructField(\"YCoordinate\", DoubleType(), True ),\n",
    "                            StructField(\"Year\", IntegerType(), True),\n",
    "                            StructField(\"UpdatedOn\", StringType(), True ),\n",
    "                            StructField(\"Latitude\", DoubleType(), True),\n",
    "                            StructField(\"Longitude\", DoubleType(), True),\n",
    "                            StructField(\"Location\", StringType(), True )\n",
    "                            ])"
   ]
  },
  {
   "cell_type": "markdown",
   "id": "11004566-85af-4088-a7f5-8c0dd6f0aece",
   "metadata": {},
   "source": [
    "**3. Load the Chicago crime data (you should get more than a million rows.**"
   ]
  },
  {
   "cell_type": "code",
   "execution_count": 4,
   "id": "986606af-67f5-4132-848c-5e4ce1135a46",
   "metadata": {
    "tags": []
   },
   "outputs": [],
   "source": [
    "df = spark.read.format(\"csv\").option(\"header\", True).schema(schema).load(\"Crimes_-_2001_to_Present.csv\")"
   ]
  },
  {
   "cell_type": "code",
   "execution_count": 5,
   "id": "5e8d40e9-bd02-4791-a20c-6fde244c6da8",
   "metadata": {
    "tags": []
   },
   "outputs": [
    {
     "name": "stdout",
     "output_type": "stream",
     "text": [
      "+--------+----------+--------------------+--------------------+----+-----------+--------------------+-------------------+------+--------+----+--------+----+-------------+-------+-----------+-----------+----+--------------------+------------+-------------+--------------------+\n",
      "|      ID|CaseNumber|                Date|               Block|IUCR|PrimaryType|         Description|LocationDescription|Arrest|Domestic|Beat|District|Ward|CommunityArea|FBICode|XCoordinate|YCoordinate|Year|           UpdatedOn|    Latitude|    Longitude|            Location|\n",
      "+--------+----------+--------------------+--------------------+----+-----------+--------------------+-------------------+------+--------+----+--------+----+-------------+-------+-----------+-----------+----+--------------------+------------+-------------+--------------------+\n",
      "|10224738|  HY411648|09/05/2015 01:30:...|     043XX S WOOD ST|0486|    BATTERY|DOMESTIC BATTERY ...|          RESIDENCE| false|    true|0924|     009|  12|           61|    08B|  1165074.0|  1875917.0|2015|02/10/2018 03:50:...|41.815117282|-87.669999562|(41.815117282, -8...|\n",
      "|10224739|  HY411615|09/04/2015 11:30:...| 008XX N CENTRAL AVE|0870|      THEFT|      POCKET-PICKING|            CTA BUS| false|   false|1511|     015|  29|           25|     06|  1138875.0|  1904869.0|2015|02/10/2018 03:50:...|41.895080471|-87.765400451|(41.895080471, -8...|\n",
      "|11646166|  JC213529|09/01/2018 12:01:...|082XX S INGLESIDE...|0810|      THEFT|           OVER $500|          RESIDENCE| false|    true|0631|     006|   8|           44|     06|       null|       null|2018|04/06/2019 04:04:...|        null|         null|                null|\n",
      "|10224740|  HY411595|09/05/2015 12:45:...|   035XX W BARRY AVE|2023|  NARCOTICS|POSS: HEROIN(BRN/...|           SIDEWALK|  true|   false|1412|     014|  35|           21|     18|  1152037.0|  1920384.0|2015|02/10/2018 03:50:...|41.937405765|-87.716649687|(41.937405765, -8...|\n",
      "|10224741|  HY411610|09/05/2015 01:00:...| 0000X N LARAMIE AVE|0560|    ASSAULT|              SIMPLE|          APARTMENT| false|    true|1522|     015|  28|           25|    08A|  1141706.0|  1900086.0|2015|02/10/2018 03:50:...|41.881903443|-87.755121152|(41.881903443, -8...|\n",
      "+--------+----------+--------------------+--------------------+----+-----------+--------------------+-------------------+------+--------+----+--------+----+-------------+-------+-----------+-----------+----+--------------------+------------+-------------+--------------------+\n",
      "only showing top 5 rows\n",
      "\n"
     ]
    }
   ],
   "source": [
    "df.show(5)"
   ]
  },
  {
   "cell_type": "code",
   "execution_count": 6,
   "id": "eabdeb25-2244-4f26-869d-9ea38ff69437",
   "metadata": {
    "tags": []
   },
   "outputs": [
    {
     "name": "stdout",
     "output_type": "stream",
     "text": [
      "root\n",
      " |-- ID: string (nullable = true)\n",
      " |-- CaseNumber: string (nullable = true)\n",
      " |-- Date: string (nullable = true)\n",
      " |-- Block: string (nullable = true)\n",
      " |-- IUCR: string (nullable = true)\n",
      " |-- PrimaryType: string (nullable = true)\n",
      " |-- Description: string (nullable = true)\n",
      " |-- LocationDescription: string (nullable = true)\n",
      " |-- Arrest: boolean (nullable = true)\n",
      " |-- Domestic: boolean (nullable = true)\n",
      " |-- Beat: string (nullable = true)\n",
      " |-- District: string (nullable = true)\n",
      " |-- Ward: string (nullable = true)\n",
      " |-- CommunityArea: string (nullable = true)\n",
      " |-- FBICode: string (nullable = true)\n",
      " |-- XCoordinate: double (nullable = true)\n",
      " |-- YCoordinate: double (nullable = true)\n",
      " |-- Year: integer (nullable = true)\n",
      " |-- UpdatedOn: string (nullable = true)\n",
      " |-- Latitude: double (nullable = true)\n",
      " |-- Longitude: double (nullable = true)\n",
      " |-- Location: string (nullable = true)\n",
      "\n"
     ]
    }
   ],
   "source": [
    "df.printSchema()"
   ]
  },
  {
   "cell_type": "code",
   "execution_count": 7,
   "id": "b7b0e355-0003-4227-9f97-835c76d6e9c7",
   "metadata": {
    "tags": []
   },
   "outputs": [
    {
     "name": "stdout",
     "output_type": "stream",
     "text": [
      "Length of rows and cols : (7760248, 22)\n"
     ]
    }
   ],
   "source": [
    "print(f\"Length of rows and cols : {((df.count()),len(df.columns))}\")"
   ]
  },
  {
   "cell_type": "markdown",
   "id": "ac1c9b68-2146-42bd-b4fd-3bc6172cc42f",
   "metadata": {},
   "source": [
    "**4. Clean the data:**"
   ]
  },
  {
   "cell_type": "markdown",
   "id": "5dbcb9b7-e996-43d4-b1c9-db864e7c2100",
   "metadata": {},
   "source": [
    "**Remove all null values.**"
   ]
  },
  {
   "cell_type": "code",
   "execution_count": 8,
   "id": "4692fa69-15f8-49d2-bf84-033ce5de7442",
   "metadata": {
    "tags": []
   },
   "outputs": [],
   "source": [
    "df = df.na.drop()"
   ]
  },
  {
   "cell_type": "code",
   "execution_count": 9,
   "id": "4d0e6869-baf3-4442-9ced-74c7bfdb99b7",
   "metadata": {
    "tags": []
   },
   "outputs": [
    {
     "name": "stdout",
     "output_type": "stream",
     "text": [
      "Length of rows and cols : (7061244, 22)\n"
     ]
    }
   ],
   "source": [
    "print(f\"Length of rows and cols : {((df.count()),len(df.columns))}\")"
   ]
  },
  {
   "cell_type": "markdown",
   "id": "a816f056-f603-4e53-ba3c-f5d28908896c",
   "metadata": {},
   "source": [
    "**Change 'Date' column data type**"
   ]
  },
  {
   "cell_type": "code",
   "execution_count": 10,
   "id": "218372d0-b026-41fb-928b-68cc55b53576",
   "metadata": {
    "tags": []
   },
   "outputs": [],
   "source": [
    "df= df.withColumn(\"Date\", to_timestamp(df.Date, \"MM/dd/yyyy hh:mm:ss a\"))"
   ]
  },
  {
   "cell_type": "code",
   "execution_count": 11,
   "id": "f2359595-cb06-4bce-a290-440a0f181ca9",
   "metadata": {
    "tags": []
   },
   "outputs": [
    {
     "name": "stderr",
     "output_type": "stream",
     "text": [
      "/usr/local/spark/python/pyspark/sql/pandas/conversion.py:248: FutureWarning: Passing unit-less datetime64 dtype to .astype is deprecated and will raise in a future version. Pass 'datetime64[ns]' instead\n",
      "  series = series.astype(t, copy=False)\n"
     ]
    },
    {
     "data": {
      "text/html": [
       "<div>\n",
       "<style scoped>\n",
       "    .dataframe tbody tr th:only-of-type {\n",
       "        vertical-align: middle;\n",
       "    }\n",
       "\n",
       "    .dataframe tbody tr th {\n",
       "        vertical-align: top;\n",
       "    }\n",
       "\n",
       "    .dataframe thead th {\n",
       "        text-align: right;\n",
       "    }\n",
       "</style>\n",
       "<table border=\"1\" class=\"dataframe\">\n",
       "  <thead>\n",
       "    <tr style=\"text-align: right;\">\n",
       "      <th></th>\n",
       "      <th>ID</th>\n",
       "      <th>CaseNumber</th>\n",
       "      <th>Date</th>\n",
       "      <th>Block</th>\n",
       "      <th>IUCR</th>\n",
       "      <th>PrimaryType</th>\n",
       "      <th>Description</th>\n",
       "      <th>LocationDescription</th>\n",
       "      <th>Arrest</th>\n",
       "      <th>Domestic</th>\n",
       "      <th>...</th>\n",
       "      <th>Ward</th>\n",
       "      <th>CommunityArea</th>\n",
       "      <th>FBICode</th>\n",
       "      <th>XCoordinate</th>\n",
       "      <th>YCoordinate</th>\n",
       "      <th>Year</th>\n",
       "      <th>UpdatedOn</th>\n",
       "      <th>Latitude</th>\n",
       "      <th>Longitude</th>\n",
       "      <th>Location</th>\n",
       "    </tr>\n",
       "  </thead>\n",
       "  <tbody>\n",
       "    <tr>\n",
       "      <th>0</th>\n",
       "      <td>10224738</td>\n",
       "      <td>HY411648</td>\n",
       "      <td>2015-09-05 13:30:00</td>\n",
       "      <td>043XX S WOOD ST</td>\n",
       "      <td>0486</td>\n",
       "      <td>BATTERY</td>\n",
       "      <td>DOMESTIC BATTERY SIMPLE</td>\n",
       "      <td>RESIDENCE</td>\n",
       "      <td>False</td>\n",
       "      <td>True</td>\n",
       "      <td>...</td>\n",
       "      <td>12</td>\n",
       "      <td>61</td>\n",
       "      <td>08B</td>\n",
       "      <td>1165074.0</td>\n",
       "      <td>1875917.0</td>\n",
       "      <td>2015</td>\n",
       "      <td>02/10/2018 03:50:01 PM</td>\n",
       "      <td>41.815117</td>\n",
       "      <td>-87.670000</td>\n",
       "      <td>(41.815117282, -87.669999562)</td>\n",
       "    </tr>\n",
       "    <tr>\n",
       "      <th>1</th>\n",
       "      <td>10224739</td>\n",
       "      <td>HY411615</td>\n",
       "      <td>2015-09-04 11:30:00</td>\n",
       "      <td>008XX N CENTRAL AVE</td>\n",
       "      <td>0870</td>\n",
       "      <td>THEFT</td>\n",
       "      <td>POCKET-PICKING</td>\n",
       "      <td>CTA BUS</td>\n",
       "      <td>False</td>\n",
       "      <td>False</td>\n",
       "      <td>...</td>\n",
       "      <td>29</td>\n",
       "      <td>25</td>\n",
       "      <td>06</td>\n",
       "      <td>1138875.0</td>\n",
       "      <td>1904869.0</td>\n",
       "      <td>2015</td>\n",
       "      <td>02/10/2018 03:50:01 PM</td>\n",
       "      <td>41.895080</td>\n",
       "      <td>-87.765400</td>\n",
       "      <td>(41.895080471, -87.765400451)</td>\n",
       "    </tr>\n",
       "    <tr>\n",
       "      <th>2</th>\n",
       "      <td>10224740</td>\n",
       "      <td>HY411595</td>\n",
       "      <td>2015-09-05 12:45:00</td>\n",
       "      <td>035XX W BARRY AVE</td>\n",
       "      <td>2023</td>\n",
       "      <td>NARCOTICS</td>\n",
       "      <td>POSS: HEROIN(BRN/TAN)</td>\n",
       "      <td>SIDEWALK</td>\n",
       "      <td>True</td>\n",
       "      <td>False</td>\n",
       "      <td>...</td>\n",
       "      <td>35</td>\n",
       "      <td>21</td>\n",
       "      <td>18</td>\n",
       "      <td>1152037.0</td>\n",
       "      <td>1920384.0</td>\n",
       "      <td>2015</td>\n",
       "      <td>02/10/2018 03:50:01 PM</td>\n",
       "      <td>41.937406</td>\n",
       "      <td>-87.716650</td>\n",
       "      <td>(41.937405765, -87.716649687)</td>\n",
       "    </tr>\n",
       "    <tr>\n",
       "      <th>3</th>\n",
       "      <td>10224741</td>\n",
       "      <td>HY411610</td>\n",
       "      <td>2015-09-05 13:00:00</td>\n",
       "      <td>0000X N LARAMIE AVE</td>\n",
       "      <td>0560</td>\n",
       "      <td>ASSAULT</td>\n",
       "      <td>SIMPLE</td>\n",
       "      <td>APARTMENT</td>\n",
       "      <td>False</td>\n",
       "      <td>True</td>\n",
       "      <td>...</td>\n",
       "      <td>28</td>\n",
       "      <td>25</td>\n",
       "      <td>08A</td>\n",
       "      <td>1141706.0</td>\n",
       "      <td>1900086.0</td>\n",
       "      <td>2015</td>\n",
       "      <td>02/10/2018 03:50:01 PM</td>\n",
       "      <td>41.881903</td>\n",
       "      <td>-87.755121</td>\n",
       "      <td>(41.881903443, -87.755121152)</td>\n",
       "    </tr>\n",
       "    <tr>\n",
       "      <th>4</th>\n",
       "      <td>10224742</td>\n",
       "      <td>HY411435</td>\n",
       "      <td>2015-09-05 10:55:00</td>\n",
       "      <td>082XX S LOOMIS BLVD</td>\n",
       "      <td>0610</td>\n",
       "      <td>BURGLARY</td>\n",
       "      <td>FORCIBLE ENTRY</td>\n",
       "      <td>RESIDENCE</td>\n",
       "      <td>False</td>\n",
       "      <td>False</td>\n",
       "      <td>...</td>\n",
       "      <td>21</td>\n",
       "      <td>71</td>\n",
       "      <td>05</td>\n",
       "      <td>1168430.0</td>\n",
       "      <td>1850165.0</td>\n",
       "      <td>2015</td>\n",
       "      <td>02/10/2018 03:50:01 PM</td>\n",
       "      <td>41.744379</td>\n",
       "      <td>-87.658431</td>\n",
       "      <td>(41.744378879, -87.658430635)</td>\n",
       "    </tr>\n",
       "  </tbody>\n",
       "</table>\n",
       "<p>5 rows × 22 columns</p>\n",
       "</div>"
      ],
      "text/plain": [
       "         ID CaseNumber                Date                Block  IUCR  \\\n",
       "0  10224738   HY411648 2015-09-05 13:30:00      043XX S WOOD ST  0486   \n",
       "1  10224739   HY411615 2015-09-04 11:30:00  008XX N CENTRAL AVE  0870   \n",
       "2  10224740   HY411595 2015-09-05 12:45:00    035XX W BARRY AVE  2023   \n",
       "3  10224741   HY411610 2015-09-05 13:00:00  0000X N LARAMIE AVE  0560   \n",
       "4  10224742   HY411435 2015-09-05 10:55:00  082XX S LOOMIS BLVD  0610   \n",
       "\n",
       "  PrimaryType              Description LocationDescription  Arrest  Domestic  \\\n",
       "0     BATTERY  DOMESTIC BATTERY SIMPLE           RESIDENCE   False      True   \n",
       "1       THEFT           POCKET-PICKING             CTA BUS   False     False   \n",
       "2   NARCOTICS    POSS: HEROIN(BRN/TAN)            SIDEWALK    True     False   \n",
       "3     ASSAULT                   SIMPLE           APARTMENT   False      True   \n",
       "4    BURGLARY           FORCIBLE ENTRY           RESIDENCE   False     False   \n",
       "\n",
       "   ... Ward CommunityArea FBICode XCoordinate YCoordinate  Year  \\\n",
       "0  ...   12            61     08B   1165074.0   1875917.0  2015   \n",
       "1  ...   29            25      06   1138875.0   1904869.0  2015   \n",
       "2  ...   35            21      18   1152037.0   1920384.0  2015   \n",
       "3  ...   28            25     08A   1141706.0   1900086.0  2015   \n",
       "4  ...   21            71      05   1168430.0   1850165.0  2015   \n",
       "\n",
       "                UpdatedOn   Latitude  Longitude                       Location  \n",
       "0  02/10/2018 03:50:01 PM  41.815117 -87.670000  (41.815117282, -87.669999562)  \n",
       "1  02/10/2018 03:50:01 PM  41.895080 -87.765400  (41.895080471, -87.765400451)  \n",
       "2  02/10/2018 03:50:01 PM  41.937406 -87.716650  (41.937405765, -87.716649687)  \n",
       "3  02/10/2018 03:50:01 PM  41.881903 -87.755121  (41.881903443, -87.755121152)  \n",
       "4  02/10/2018 03:50:01 PM  41.744379 -87.658431  (41.744378879, -87.658430635)  \n",
       "\n",
       "[5 rows x 22 columns]"
      ]
     },
     "execution_count": 11,
     "metadata": {},
     "output_type": "execute_result"
    }
   ],
   "source": [
    "df.limit(10).toPandas().head()"
   ]
  },
  {
   "cell_type": "code",
   "execution_count": 12,
   "id": "c592da2b-d2b1-4d04-978c-9a0e26ff75bd",
   "metadata": {
    "tags": []
   },
   "outputs": [
    {
     "name": "stdout",
     "output_type": "stream",
     "text": [
      "Length of rows and cols : (7061244, 22)\n"
     ]
    }
   ],
   "source": [
    "print(f\"Length of rows and cols : {((df.count()),len(df.columns))}\")"
   ]
  },
  {
   "cell_type": "markdown",
   "id": "796c0e3f-bdf0-487d-ace6-b054ee05ab0c",
   "metadata": {},
   "source": [
    "**5. Filter the data for last ten years.**"
   ]
  },
  {
   "cell_type": "code",
   "execution_count": 13,
   "id": "23dc2fd6-1dd3-49c0-86dd-4d03966b9f2d",
   "metadata": {
    "tags": []
   },
   "outputs": [],
   "source": [
    "df=df.filter((df['Year'] >=2013))"
   ]
  },
  {
   "cell_type": "code",
   "execution_count": 14,
   "id": "6774964e-080e-45c3-b663-52cc1381e57e",
   "metadata": {
    "tags": []
   },
   "outputs": [
    {
     "name": "stderr",
     "output_type": "stream",
     "text": [
      "/usr/local/spark/python/pyspark/sql/pandas/conversion.py:248: FutureWarning: Passing unit-less datetime64 dtype to .astype is deprecated and will raise in a future version. Pass 'datetime64[ns]' instead\n",
      "  series = series.astype(t, copy=False)\n"
     ]
    },
    {
     "data": {
      "text/html": [
       "<div>\n",
       "<style scoped>\n",
       "    .dataframe tbody tr th:only-of-type {\n",
       "        vertical-align: middle;\n",
       "    }\n",
       "\n",
       "    .dataframe tbody tr th {\n",
       "        vertical-align: top;\n",
       "    }\n",
       "\n",
       "    .dataframe thead th {\n",
       "        text-align: right;\n",
       "    }\n",
       "</style>\n",
       "<table border=\"1\" class=\"dataframe\">\n",
       "  <thead>\n",
       "    <tr style=\"text-align: right;\">\n",
       "      <th></th>\n",
       "      <th>ID</th>\n",
       "      <th>CaseNumber</th>\n",
       "      <th>Date</th>\n",
       "      <th>Block</th>\n",
       "      <th>IUCR</th>\n",
       "      <th>PrimaryType</th>\n",
       "      <th>Description</th>\n",
       "      <th>LocationDescription</th>\n",
       "      <th>Arrest</th>\n",
       "      <th>Domestic</th>\n",
       "      <th>...</th>\n",
       "      <th>Ward</th>\n",
       "      <th>CommunityArea</th>\n",
       "      <th>FBICode</th>\n",
       "      <th>XCoordinate</th>\n",
       "      <th>YCoordinate</th>\n",
       "      <th>Year</th>\n",
       "      <th>UpdatedOn</th>\n",
       "      <th>Latitude</th>\n",
       "      <th>Longitude</th>\n",
       "      <th>Location</th>\n",
       "    </tr>\n",
       "  </thead>\n",
       "  <tbody>\n",
       "    <tr>\n",
       "      <th>0</th>\n",
       "      <td>10224738</td>\n",
       "      <td>HY411648</td>\n",
       "      <td>2015-09-05 13:30:00</td>\n",
       "      <td>043XX S WOOD ST</td>\n",
       "      <td>0486</td>\n",
       "      <td>BATTERY</td>\n",
       "      <td>DOMESTIC BATTERY SIMPLE</td>\n",
       "      <td>RESIDENCE</td>\n",
       "      <td>False</td>\n",
       "      <td>True</td>\n",
       "      <td>...</td>\n",
       "      <td>12</td>\n",
       "      <td>61</td>\n",
       "      <td>08B</td>\n",
       "      <td>1165074.0</td>\n",
       "      <td>1875917.0</td>\n",
       "      <td>2015</td>\n",
       "      <td>02/10/2018 03:50:01 PM</td>\n",
       "      <td>41.815117</td>\n",
       "      <td>-87.670000</td>\n",
       "      <td>(41.815117282, -87.669999562)</td>\n",
       "    </tr>\n",
       "    <tr>\n",
       "      <th>1</th>\n",
       "      <td>10224739</td>\n",
       "      <td>HY411615</td>\n",
       "      <td>2015-09-04 11:30:00</td>\n",
       "      <td>008XX N CENTRAL AVE</td>\n",
       "      <td>0870</td>\n",
       "      <td>THEFT</td>\n",
       "      <td>POCKET-PICKING</td>\n",
       "      <td>CTA BUS</td>\n",
       "      <td>False</td>\n",
       "      <td>False</td>\n",
       "      <td>...</td>\n",
       "      <td>29</td>\n",
       "      <td>25</td>\n",
       "      <td>06</td>\n",
       "      <td>1138875.0</td>\n",
       "      <td>1904869.0</td>\n",
       "      <td>2015</td>\n",
       "      <td>02/10/2018 03:50:01 PM</td>\n",
       "      <td>41.895080</td>\n",
       "      <td>-87.765400</td>\n",
       "      <td>(41.895080471, -87.765400451)</td>\n",
       "    </tr>\n",
       "    <tr>\n",
       "      <th>2</th>\n",
       "      <td>10224740</td>\n",
       "      <td>HY411595</td>\n",
       "      <td>2015-09-05 12:45:00</td>\n",
       "      <td>035XX W BARRY AVE</td>\n",
       "      <td>2023</td>\n",
       "      <td>NARCOTICS</td>\n",
       "      <td>POSS: HEROIN(BRN/TAN)</td>\n",
       "      <td>SIDEWALK</td>\n",
       "      <td>True</td>\n",
       "      <td>False</td>\n",
       "      <td>...</td>\n",
       "      <td>35</td>\n",
       "      <td>21</td>\n",
       "      <td>18</td>\n",
       "      <td>1152037.0</td>\n",
       "      <td>1920384.0</td>\n",
       "      <td>2015</td>\n",
       "      <td>02/10/2018 03:50:01 PM</td>\n",
       "      <td>41.937406</td>\n",
       "      <td>-87.716650</td>\n",
       "      <td>(41.937405765, -87.716649687)</td>\n",
       "    </tr>\n",
       "    <tr>\n",
       "      <th>3</th>\n",
       "      <td>10224741</td>\n",
       "      <td>HY411610</td>\n",
       "      <td>2015-09-05 13:00:00</td>\n",
       "      <td>0000X N LARAMIE AVE</td>\n",
       "      <td>0560</td>\n",
       "      <td>ASSAULT</td>\n",
       "      <td>SIMPLE</td>\n",
       "      <td>APARTMENT</td>\n",
       "      <td>False</td>\n",
       "      <td>True</td>\n",
       "      <td>...</td>\n",
       "      <td>28</td>\n",
       "      <td>25</td>\n",
       "      <td>08A</td>\n",
       "      <td>1141706.0</td>\n",
       "      <td>1900086.0</td>\n",
       "      <td>2015</td>\n",
       "      <td>02/10/2018 03:50:01 PM</td>\n",
       "      <td>41.881903</td>\n",
       "      <td>-87.755121</td>\n",
       "      <td>(41.881903443, -87.755121152)</td>\n",
       "    </tr>\n",
       "    <tr>\n",
       "      <th>4</th>\n",
       "      <td>10224742</td>\n",
       "      <td>HY411435</td>\n",
       "      <td>2015-09-05 10:55:00</td>\n",
       "      <td>082XX S LOOMIS BLVD</td>\n",
       "      <td>0610</td>\n",
       "      <td>BURGLARY</td>\n",
       "      <td>FORCIBLE ENTRY</td>\n",
       "      <td>RESIDENCE</td>\n",
       "      <td>False</td>\n",
       "      <td>False</td>\n",
       "      <td>...</td>\n",
       "      <td>21</td>\n",
       "      <td>71</td>\n",
       "      <td>05</td>\n",
       "      <td>1168430.0</td>\n",
       "      <td>1850165.0</td>\n",
       "      <td>2015</td>\n",
       "      <td>02/10/2018 03:50:01 PM</td>\n",
       "      <td>41.744379</td>\n",
       "      <td>-87.658431</td>\n",
       "      <td>(41.744378879, -87.658430635)</td>\n",
       "    </tr>\n",
       "  </tbody>\n",
       "</table>\n",
       "<p>5 rows × 22 columns</p>\n",
       "</div>"
      ],
      "text/plain": [
       "         ID CaseNumber                Date                Block  IUCR  \\\n",
       "0  10224738   HY411648 2015-09-05 13:30:00      043XX S WOOD ST  0486   \n",
       "1  10224739   HY411615 2015-09-04 11:30:00  008XX N CENTRAL AVE  0870   \n",
       "2  10224740   HY411595 2015-09-05 12:45:00    035XX W BARRY AVE  2023   \n",
       "3  10224741   HY411610 2015-09-05 13:00:00  0000X N LARAMIE AVE  0560   \n",
       "4  10224742   HY411435 2015-09-05 10:55:00  082XX S LOOMIS BLVD  0610   \n",
       "\n",
       "  PrimaryType              Description LocationDescription  Arrest  Domestic  \\\n",
       "0     BATTERY  DOMESTIC BATTERY SIMPLE           RESIDENCE   False      True   \n",
       "1       THEFT           POCKET-PICKING             CTA BUS   False     False   \n",
       "2   NARCOTICS    POSS: HEROIN(BRN/TAN)            SIDEWALK    True     False   \n",
       "3     ASSAULT                   SIMPLE           APARTMENT   False      True   \n",
       "4    BURGLARY           FORCIBLE ENTRY           RESIDENCE   False     False   \n",
       "\n",
       "   ... Ward CommunityArea FBICode XCoordinate YCoordinate  Year  \\\n",
       "0  ...   12            61     08B   1165074.0   1875917.0  2015   \n",
       "1  ...   29            25      06   1138875.0   1904869.0  2015   \n",
       "2  ...   35            21      18   1152037.0   1920384.0  2015   \n",
       "3  ...   28            25     08A   1141706.0   1900086.0  2015   \n",
       "4  ...   21            71      05   1168430.0   1850165.0  2015   \n",
       "\n",
       "                UpdatedOn   Latitude  Longitude                       Location  \n",
       "0  02/10/2018 03:50:01 PM  41.815117 -87.670000  (41.815117282, -87.669999562)  \n",
       "1  02/10/2018 03:50:01 PM  41.895080 -87.765400  (41.895080471, -87.765400451)  \n",
       "2  02/10/2018 03:50:01 PM  41.937406 -87.716650  (41.937405765, -87.716649687)  \n",
       "3  02/10/2018 03:50:01 PM  41.881903 -87.755121  (41.881903443, -87.755121152)  \n",
       "4  02/10/2018 03:50:01 PM  41.744379 -87.658431  (41.744378879, -87.658430635)  \n",
       "\n",
       "[5 rows x 22 columns]"
      ]
     },
     "execution_count": 14,
     "metadata": {},
     "output_type": "execute_result"
    }
   ],
   "source": [
    "df.limit(10).toPandas().head()"
   ]
  },
  {
   "cell_type": "code",
   "execution_count": 15,
   "id": "55bd9a4c-792e-45f4-aa0e-0ac9b7315441",
   "metadata": {
    "tags": []
   },
   "outputs": [
    {
     "name": "stdout",
     "output_type": "stream",
     "text": [
      "Length of rows and cols : (2580852, 22)\n"
     ]
    }
   ],
   "source": [
    "print(f\"Length of rows and cols : {((df.count()),len(df.columns))}\")"
   ]
  },
  {
   "cell_type": "markdown",
   "id": "16cd2688-7744-4df5-aa41-27a74c80c234",
   "metadata": {},
   "source": [
    "**6. Remove all the records with the following crime types:**\n",
    "- 'NON-CRIMINAL (SUBJECT SPECIFIED)'\n",
    "- 'OTHER OFFENSE'\n",
    "- 'STALKING'\n",
    "- 'NON - CRIMINAL'\n",
    "- 'ARSON'"
   ]
  },
  {
   "cell_type": "code",
   "execution_count": 16,
   "id": "95ca7c11-9cf7-41ac-9d82-a1e0be992b50",
   "metadata": {
    "tags": []
   },
   "outputs": [],
   "source": [
    "df=df.filter((df['PrimaryType']!='NON-CRIMINAL (SUBJECT SPECIFIED)')&\n",
    "             (df['PrimaryType']!='OTHER OFFENSE')&\n",
    "             (df['PrimaryType']!='STALKING')&\n",
    "             (df['PrimaryType']!='NON - CRIMINAL')&\n",
    "             (df['PrimaryType']!='ARSON'))   "
   ]
  },
  {
   "cell_type": "code",
   "execution_count": 17,
   "id": "8b68e586-eb57-425e-99b2-11531ee2c353",
   "metadata": {
    "tags": []
   },
   "outputs": [
    {
     "name": "stdout",
     "output_type": "stream",
     "text": [
      "Length of rows and cols : (2410520, 22)\n"
     ]
    }
   ],
   "source": [
    "print(f\"Length of rows and cols : {((df.count()),len(df.columns))}\")"
   ]
  },
  {
   "cell_type": "markdown",
   "id": "da0162e1-cbb5-4e0e-a8a3-1759c989fe3d",
   "metadata": {},
   "source": [
    "**7. Merge the similar crime types.**\n",
    "- For example, change 'Primary Type' of cases that have 'Primary Type' as ‘SEX OFFENSE’ or ‘PROSTITUTION’ such that they should have the same 'Primary Type'."
   ]
  },
  {
   "cell_type": "code",
   "execution_count": 18,
   "id": "e5cc8b93-e512-4431-85ab-57b6e53eeb93",
   "metadata": {
    "tags": []
   },
   "outputs": [
    {
     "name": "stdout",
     "output_type": "stream",
     "text": [
      "+---------------------------------+\n",
      "|PrimaryType                      |\n",
      "+---------------------------------+\n",
      "|OFFENSE INVOLVING CHILDREN       |\n",
      "|CRIMINAL SEXUAL ASSAULT          |\n",
      "|PUBLIC PEACE VIOLATION           |\n",
      "|OBSCENITY                        |\n",
      "|GAMBLING                         |\n",
      "|CRIMINAL TRESPASS                |\n",
      "|ASSAULT                          |\n",
      "|LIQUOR LAW VIOLATION             |\n",
      "|MOTOR VEHICLE THEFT              |\n",
      "|THEFT                            |\n",
      "|BATTERY                          |\n",
      "|ROBBERY                          |\n",
      "|HOMICIDE                         |\n",
      "|PUBLIC INDECENCY                 |\n",
      "|CRIM SEXUAL ASSAULT              |\n",
      "|HUMAN TRAFFICKING                |\n",
      "|INTIMIDATION                     |\n",
      "|PROSTITUTION                     |\n",
      "|DECEPTIVE PRACTICE               |\n",
      "|CONCEALED CARRY LICENSE VIOLATION|\n",
      "|SEX OFFENSE                      |\n",
      "|CRIMINAL DAMAGE                  |\n",
      "|NARCOTICS                        |\n",
      "|NON-CRIMINAL                     |\n",
      "|KIDNAPPING                       |\n",
      "|BURGLARY                         |\n",
      "|WEAPONS VIOLATION                |\n",
      "|OTHER NARCOTIC VIOLATION         |\n",
      "|INTERFERENCE WITH PUBLIC OFFICER |\n",
      "|RITUALISM                        |\n",
      "+---------------------------------+\n",
      "\n"
     ]
    }
   ],
   "source": [
    "df.select('PrimaryType').distinct().show(50,False)"
   ]
  },
  {
   "cell_type": "code",
   "execution_count": 19,
   "id": "883130b7-6043-46e9-8b16-5bb368a7c457",
   "metadata": {},
   "outputs": [],
   "source": [
    "df = df.withColumn(\"PrimaryType\",when((df[\"PrimaryType\"] == 'CRIM SEXUAL ASSAULT') | (df[\"PrimaryType\"] == 'PROSTITUTION') ,\n",
    "                                      'SEX OFFENSE').otherwise(df['PrimaryType']))  \n",
    "\n",
    "df = df.withColumn(\"PrimaryType\",when((df[\"PrimaryType\"] == 'WEAPONS VIOLATION') | (df[\"PrimaryType\"] == 'INTERFERENCE WITH PUBLIC OFFICER') ,\n",
    "                                      'PUBLIC PEACE VIOLATION').otherwise(df['PrimaryType']))  \n",
    "\n",
    "df = df.withColumn(\"PrimaryType\",when((df[\"PrimaryType\"] == 'LIQUOR LAW VIOLATION') | (df[\"PrimaryType\"] == 'RITUALISM') | (df[\"PrimaryType\"] == 'GAMBLING'),\n",
    "                                      'OTHERS').otherwise(df['PrimaryType']))  \n",
    "\n",
    "df = df.withColumn(\"PrimaryType\",when((df[\"PrimaryType\"] == 'ROBBERY'),'THEFT').otherwise(df['PrimaryType']))  \n",
    "\n",
    "df = df.withColumn(\"PrimaryType\", when(df[\"PrimaryType\"] == 'OTHER NARCOTIC VIOLATION','NARCOTIC').otherwise(df['PrimaryType']))"
   ]
  },
  {
   "cell_type": "code",
   "execution_count": 20,
   "id": "d34102ca-acc3-416a-9a27-967a0330426f",
   "metadata": {
    "tags": []
   },
   "outputs": [
    {
     "name": "stderr",
     "output_type": "stream",
     "text": [
      "/usr/local/spark/python/pyspark/sql/pandas/conversion.py:248: FutureWarning: Passing unit-less datetime64 dtype to .astype is deprecated and will raise in a future version. Pass 'datetime64[ns]' instead\n",
      "  series = series.astype(t, copy=False)\n"
     ]
    },
    {
     "data": {
      "text/html": [
       "<div>\n",
       "<style scoped>\n",
       "    .dataframe tbody tr th:only-of-type {\n",
       "        vertical-align: middle;\n",
       "    }\n",
       "\n",
       "    .dataframe tbody tr th {\n",
       "        vertical-align: top;\n",
       "    }\n",
       "\n",
       "    .dataframe thead th {\n",
       "        text-align: right;\n",
       "    }\n",
       "</style>\n",
       "<table border=\"1\" class=\"dataframe\">\n",
       "  <thead>\n",
       "    <tr style=\"text-align: right;\">\n",
       "      <th></th>\n",
       "      <th>ID</th>\n",
       "      <th>CaseNumber</th>\n",
       "      <th>Date</th>\n",
       "      <th>Block</th>\n",
       "      <th>IUCR</th>\n",
       "      <th>PrimaryType</th>\n",
       "      <th>Description</th>\n",
       "      <th>LocationDescription</th>\n",
       "      <th>Arrest</th>\n",
       "      <th>Domestic</th>\n",
       "      <th>...</th>\n",
       "      <th>Ward</th>\n",
       "      <th>CommunityArea</th>\n",
       "      <th>FBICode</th>\n",
       "      <th>XCoordinate</th>\n",
       "      <th>YCoordinate</th>\n",
       "      <th>Year</th>\n",
       "      <th>UpdatedOn</th>\n",
       "      <th>Latitude</th>\n",
       "      <th>Longitude</th>\n",
       "      <th>Location</th>\n",
       "    </tr>\n",
       "  </thead>\n",
       "  <tbody>\n",
       "    <tr>\n",
       "      <th>0</th>\n",
       "      <td>10224738</td>\n",
       "      <td>HY411648</td>\n",
       "      <td>2015-09-05 13:30:00</td>\n",
       "      <td>043XX S WOOD ST</td>\n",
       "      <td>0486</td>\n",
       "      <td>BATTERY</td>\n",
       "      <td>DOMESTIC BATTERY SIMPLE</td>\n",
       "      <td>RESIDENCE</td>\n",
       "      <td>False</td>\n",
       "      <td>True</td>\n",
       "      <td>...</td>\n",
       "      <td>12</td>\n",
       "      <td>61</td>\n",
       "      <td>08B</td>\n",
       "      <td>1165074.0</td>\n",
       "      <td>1875917.0</td>\n",
       "      <td>2015</td>\n",
       "      <td>02/10/2018 03:50:01 PM</td>\n",
       "      <td>41.815117</td>\n",
       "      <td>-87.670000</td>\n",
       "      <td>(41.815117282, -87.669999562)</td>\n",
       "    </tr>\n",
       "    <tr>\n",
       "      <th>1</th>\n",
       "      <td>10224739</td>\n",
       "      <td>HY411615</td>\n",
       "      <td>2015-09-04 11:30:00</td>\n",
       "      <td>008XX N CENTRAL AVE</td>\n",
       "      <td>0870</td>\n",
       "      <td>THEFT</td>\n",
       "      <td>POCKET-PICKING</td>\n",
       "      <td>CTA BUS</td>\n",
       "      <td>False</td>\n",
       "      <td>False</td>\n",
       "      <td>...</td>\n",
       "      <td>29</td>\n",
       "      <td>25</td>\n",
       "      <td>06</td>\n",
       "      <td>1138875.0</td>\n",
       "      <td>1904869.0</td>\n",
       "      <td>2015</td>\n",
       "      <td>02/10/2018 03:50:01 PM</td>\n",
       "      <td>41.895080</td>\n",
       "      <td>-87.765400</td>\n",
       "      <td>(41.895080471, -87.765400451)</td>\n",
       "    </tr>\n",
       "    <tr>\n",
       "      <th>2</th>\n",
       "      <td>10224740</td>\n",
       "      <td>HY411595</td>\n",
       "      <td>2015-09-05 12:45:00</td>\n",
       "      <td>035XX W BARRY AVE</td>\n",
       "      <td>2023</td>\n",
       "      <td>NARCOTICS</td>\n",
       "      <td>POSS: HEROIN(BRN/TAN)</td>\n",
       "      <td>SIDEWALK</td>\n",
       "      <td>True</td>\n",
       "      <td>False</td>\n",
       "      <td>...</td>\n",
       "      <td>35</td>\n",
       "      <td>21</td>\n",
       "      <td>18</td>\n",
       "      <td>1152037.0</td>\n",
       "      <td>1920384.0</td>\n",
       "      <td>2015</td>\n",
       "      <td>02/10/2018 03:50:01 PM</td>\n",
       "      <td>41.937406</td>\n",
       "      <td>-87.716650</td>\n",
       "      <td>(41.937405765, -87.716649687)</td>\n",
       "    </tr>\n",
       "    <tr>\n",
       "      <th>3</th>\n",
       "      <td>10224741</td>\n",
       "      <td>HY411610</td>\n",
       "      <td>2015-09-05 13:00:00</td>\n",
       "      <td>0000X N LARAMIE AVE</td>\n",
       "      <td>0560</td>\n",
       "      <td>ASSAULT</td>\n",
       "      <td>SIMPLE</td>\n",
       "      <td>APARTMENT</td>\n",
       "      <td>False</td>\n",
       "      <td>True</td>\n",
       "      <td>...</td>\n",
       "      <td>28</td>\n",
       "      <td>25</td>\n",
       "      <td>08A</td>\n",
       "      <td>1141706.0</td>\n",
       "      <td>1900086.0</td>\n",
       "      <td>2015</td>\n",
       "      <td>02/10/2018 03:50:01 PM</td>\n",
       "      <td>41.881903</td>\n",
       "      <td>-87.755121</td>\n",
       "      <td>(41.881903443, -87.755121152)</td>\n",
       "    </tr>\n",
       "    <tr>\n",
       "      <th>4</th>\n",
       "      <td>10224742</td>\n",
       "      <td>HY411435</td>\n",
       "      <td>2015-09-05 10:55:00</td>\n",
       "      <td>082XX S LOOMIS BLVD</td>\n",
       "      <td>0610</td>\n",
       "      <td>BURGLARY</td>\n",
       "      <td>FORCIBLE ENTRY</td>\n",
       "      <td>RESIDENCE</td>\n",
       "      <td>False</td>\n",
       "      <td>False</td>\n",
       "      <td>...</td>\n",
       "      <td>21</td>\n",
       "      <td>71</td>\n",
       "      <td>05</td>\n",
       "      <td>1168430.0</td>\n",
       "      <td>1850165.0</td>\n",
       "      <td>2015</td>\n",
       "      <td>02/10/2018 03:50:01 PM</td>\n",
       "      <td>41.744379</td>\n",
       "      <td>-87.658431</td>\n",
       "      <td>(41.744378879, -87.658430635)</td>\n",
       "    </tr>\n",
       "  </tbody>\n",
       "</table>\n",
       "<p>5 rows × 22 columns</p>\n",
       "</div>"
      ],
      "text/plain": [
       "         ID CaseNumber                Date                Block  IUCR  \\\n",
       "0  10224738   HY411648 2015-09-05 13:30:00      043XX S WOOD ST  0486   \n",
       "1  10224739   HY411615 2015-09-04 11:30:00  008XX N CENTRAL AVE  0870   \n",
       "2  10224740   HY411595 2015-09-05 12:45:00    035XX W BARRY AVE  2023   \n",
       "3  10224741   HY411610 2015-09-05 13:00:00  0000X N LARAMIE AVE  0560   \n",
       "4  10224742   HY411435 2015-09-05 10:55:00  082XX S LOOMIS BLVD  0610   \n",
       "\n",
       "  PrimaryType              Description LocationDescription  Arrest  Domestic  \\\n",
       "0     BATTERY  DOMESTIC BATTERY SIMPLE           RESIDENCE   False      True   \n",
       "1       THEFT           POCKET-PICKING             CTA BUS   False     False   \n",
       "2   NARCOTICS    POSS: HEROIN(BRN/TAN)            SIDEWALK    True     False   \n",
       "3     ASSAULT                   SIMPLE           APARTMENT   False      True   \n",
       "4    BURGLARY           FORCIBLE ENTRY           RESIDENCE   False     False   \n",
       "\n",
       "   ... Ward CommunityArea FBICode XCoordinate YCoordinate  Year  \\\n",
       "0  ...   12            61     08B   1165074.0   1875917.0  2015   \n",
       "1  ...   29            25      06   1138875.0   1904869.0  2015   \n",
       "2  ...   35            21      18   1152037.0   1920384.0  2015   \n",
       "3  ...   28            25     08A   1141706.0   1900086.0  2015   \n",
       "4  ...   21            71      05   1168430.0   1850165.0  2015   \n",
       "\n",
       "                UpdatedOn   Latitude  Longitude                       Location  \n",
       "0  02/10/2018 03:50:01 PM  41.815117 -87.670000  (41.815117282, -87.669999562)  \n",
       "1  02/10/2018 03:50:01 PM  41.895080 -87.765400  (41.895080471, -87.765400451)  \n",
       "2  02/10/2018 03:50:01 PM  41.937406 -87.716650  (41.937405765, -87.716649687)  \n",
       "3  02/10/2018 03:50:01 PM  41.881903 -87.755121  (41.881903443, -87.755121152)  \n",
       "4  02/10/2018 03:50:01 PM  41.744379 -87.658431  (41.744378879, -87.658430635)  \n",
       "\n",
       "[5 rows x 22 columns]"
      ]
     },
     "execution_count": 20,
     "metadata": {},
     "output_type": "execute_result"
    }
   ],
   "source": [
    "df.limit(10).toPandas().head()"
   ]
  },
  {
   "cell_type": "code",
   "execution_count": 21,
   "id": "ede96a8b-fdcb-4b34-8dd4-b518f68e729c",
   "metadata": {
    "tags": []
   },
   "outputs": [
    {
     "name": "stdout",
     "output_type": "stream",
     "text": [
      "Length of rows and cols : (2410520, 22)\n"
     ]
    }
   ],
   "source": [
    "print(f\"Length of rows and cols : {((df.count()),len(df.columns))}\")"
   ]
  },
  {
   "cell_type": "markdown",
   "id": "25563596-8335-4021-9eca-53ec378b54aa",
   "metadata": {},
   "source": [
    "**8. Analyze the data and present results:**"
   ]
  },
  {
   "cell_type": "markdown",
   "id": "5b68a719-b649-4077-a294-b3e16818baf2",
   "metadata": {},
   "source": [
    "**Show year-wise trend of the crime for last ten years.**"
   ]
  },
  {
   "cell_type": "code",
   "execution_count": 22,
   "id": "1c50a6ad-bd33-4fc5-b15a-5cdfa7ba0364",
   "metadata": {
    "tags": []
   },
   "outputs": [
    {
     "name": "stderr",
     "output_type": "stream",
     "text": [
      "/usr/local/spark/python/pyspark/sql/pandas/conversion.py:248: FutureWarning: Passing unit-less datetime64 dtype to .astype is deprecated and will raise in a future version. Pass 'datetime64[ns]' instead\n",
      "  series = series.astype(t, copy=False)\n"
     ]
    },
    {
     "data": {
      "text/html": [
       "<div>\n",
       "<style scoped>\n",
       "    .dataframe tbody tr th:only-of-type {\n",
       "        vertical-align: middle;\n",
       "    }\n",
       "\n",
       "    .dataframe tbody tr th {\n",
       "        vertical-align: top;\n",
       "    }\n",
       "\n",
       "    .dataframe thead th {\n",
       "        text-align: right;\n",
       "    }\n",
       "</style>\n",
       "<table border=\"1\" class=\"dataframe\">\n",
       "  <thead>\n",
       "    <tr style=\"text-align: right;\">\n",
       "      <th></th>\n",
       "      <th>ID</th>\n",
       "      <th>CaseNumber</th>\n",
       "      <th>Date</th>\n",
       "      <th>Block</th>\n",
       "      <th>IUCR</th>\n",
       "      <th>PrimaryType</th>\n",
       "      <th>Description</th>\n",
       "      <th>LocationDescription</th>\n",
       "      <th>Arrest</th>\n",
       "      <th>Domestic</th>\n",
       "      <th>...</th>\n",
       "      <th>Ward</th>\n",
       "      <th>CommunityArea</th>\n",
       "      <th>FBICode</th>\n",
       "      <th>XCoordinate</th>\n",
       "      <th>YCoordinate</th>\n",
       "      <th>Year</th>\n",
       "      <th>UpdatedOn</th>\n",
       "      <th>Latitude</th>\n",
       "      <th>Longitude</th>\n",
       "      <th>Location</th>\n",
       "    </tr>\n",
       "  </thead>\n",
       "  <tbody>\n",
       "    <tr>\n",
       "      <th>0</th>\n",
       "      <td>10224738</td>\n",
       "      <td>HY411648</td>\n",
       "      <td>2015-09-05 13:30:00</td>\n",
       "      <td>043XX S WOOD ST</td>\n",
       "      <td>0486</td>\n",
       "      <td>BATTERY</td>\n",
       "      <td>DOMESTIC BATTERY SIMPLE</td>\n",
       "      <td>RESIDENCE</td>\n",
       "      <td>False</td>\n",
       "      <td>True</td>\n",
       "      <td>...</td>\n",
       "      <td>12</td>\n",
       "      <td>61</td>\n",
       "      <td>08B</td>\n",
       "      <td>1165074.0</td>\n",
       "      <td>1875917.0</td>\n",
       "      <td>2015</td>\n",
       "      <td>02/10/2018 03:50:01 PM</td>\n",
       "      <td>41.815117</td>\n",
       "      <td>-87.670000</td>\n",
       "      <td>(41.815117282, -87.669999562)</td>\n",
       "    </tr>\n",
       "    <tr>\n",
       "      <th>1</th>\n",
       "      <td>10224739</td>\n",
       "      <td>HY411615</td>\n",
       "      <td>2015-09-04 11:30:00</td>\n",
       "      <td>008XX N CENTRAL AVE</td>\n",
       "      <td>0870</td>\n",
       "      <td>THEFT</td>\n",
       "      <td>POCKET-PICKING</td>\n",
       "      <td>CTA BUS</td>\n",
       "      <td>False</td>\n",
       "      <td>False</td>\n",
       "      <td>...</td>\n",
       "      <td>29</td>\n",
       "      <td>25</td>\n",
       "      <td>06</td>\n",
       "      <td>1138875.0</td>\n",
       "      <td>1904869.0</td>\n",
       "      <td>2015</td>\n",
       "      <td>02/10/2018 03:50:01 PM</td>\n",
       "      <td>41.895080</td>\n",
       "      <td>-87.765400</td>\n",
       "      <td>(41.895080471, -87.765400451)</td>\n",
       "    </tr>\n",
       "    <tr>\n",
       "      <th>2</th>\n",
       "      <td>10224740</td>\n",
       "      <td>HY411595</td>\n",
       "      <td>2015-09-05 12:45:00</td>\n",
       "      <td>035XX W BARRY AVE</td>\n",
       "      <td>2023</td>\n",
       "      <td>NARCOTICS</td>\n",
       "      <td>POSS: HEROIN(BRN/TAN)</td>\n",
       "      <td>SIDEWALK</td>\n",
       "      <td>True</td>\n",
       "      <td>False</td>\n",
       "      <td>...</td>\n",
       "      <td>35</td>\n",
       "      <td>21</td>\n",
       "      <td>18</td>\n",
       "      <td>1152037.0</td>\n",
       "      <td>1920384.0</td>\n",
       "      <td>2015</td>\n",
       "      <td>02/10/2018 03:50:01 PM</td>\n",
       "      <td>41.937406</td>\n",
       "      <td>-87.716650</td>\n",
       "      <td>(41.937405765, -87.716649687)</td>\n",
       "    </tr>\n",
       "    <tr>\n",
       "      <th>3</th>\n",
       "      <td>10224741</td>\n",
       "      <td>HY411610</td>\n",
       "      <td>2015-09-05 13:00:00</td>\n",
       "      <td>0000X N LARAMIE AVE</td>\n",
       "      <td>0560</td>\n",
       "      <td>ASSAULT</td>\n",
       "      <td>SIMPLE</td>\n",
       "      <td>APARTMENT</td>\n",
       "      <td>False</td>\n",
       "      <td>True</td>\n",
       "      <td>...</td>\n",
       "      <td>28</td>\n",
       "      <td>25</td>\n",
       "      <td>08A</td>\n",
       "      <td>1141706.0</td>\n",
       "      <td>1900086.0</td>\n",
       "      <td>2015</td>\n",
       "      <td>02/10/2018 03:50:01 PM</td>\n",
       "      <td>41.881903</td>\n",
       "      <td>-87.755121</td>\n",
       "      <td>(41.881903443, -87.755121152)</td>\n",
       "    </tr>\n",
       "    <tr>\n",
       "      <th>4</th>\n",
       "      <td>10224742</td>\n",
       "      <td>HY411435</td>\n",
       "      <td>2015-09-05 10:55:00</td>\n",
       "      <td>082XX S LOOMIS BLVD</td>\n",
       "      <td>0610</td>\n",
       "      <td>BURGLARY</td>\n",
       "      <td>FORCIBLE ENTRY</td>\n",
       "      <td>RESIDENCE</td>\n",
       "      <td>False</td>\n",
       "      <td>False</td>\n",
       "      <td>...</td>\n",
       "      <td>21</td>\n",
       "      <td>71</td>\n",
       "      <td>05</td>\n",
       "      <td>1168430.0</td>\n",
       "      <td>1850165.0</td>\n",
       "      <td>2015</td>\n",
       "      <td>02/10/2018 03:50:01 PM</td>\n",
       "      <td>41.744379</td>\n",
       "      <td>-87.658431</td>\n",
       "      <td>(41.744378879, -87.658430635)</td>\n",
       "    </tr>\n",
       "  </tbody>\n",
       "</table>\n",
       "<p>5 rows × 22 columns</p>\n",
       "</div>"
      ],
      "text/plain": [
       "         ID CaseNumber                Date                Block  IUCR  \\\n",
       "0  10224738   HY411648 2015-09-05 13:30:00      043XX S WOOD ST  0486   \n",
       "1  10224739   HY411615 2015-09-04 11:30:00  008XX N CENTRAL AVE  0870   \n",
       "2  10224740   HY411595 2015-09-05 12:45:00    035XX W BARRY AVE  2023   \n",
       "3  10224741   HY411610 2015-09-05 13:00:00  0000X N LARAMIE AVE  0560   \n",
       "4  10224742   HY411435 2015-09-05 10:55:00  082XX S LOOMIS BLVD  0610   \n",
       "\n",
       "  PrimaryType              Description LocationDescription  Arrest  Domestic  \\\n",
       "0     BATTERY  DOMESTIC BATTERY SIMPLE           RESIDENCE   False      True   \n",
       "1       THEFT           POCKET-PICKING             CTA BUS   False     False   \n",
       "2   NARCOTICS    POSS: HEROIN(BRN/TAN)            SIDEWALK    True     False   \n",
       "3     ASSAULT                   SIMPLE           APARTMENT   False      True   \n",
       "4    BURGLARY           FORCIBLE ENTRY           RESIDENCE   False     False   \n",
       "\n",
       "   ... Ward CommunityArea FBICode XCoordinate YCoordinate  Year  \\\n",
       "0  ...   12            61     08B   1165074.0   1875917.0  2015   \n",
       "1  ...   29            25      06   1138875.0   1904869.0  2015   \n",
       "2  ...   35            21      18   1152037.0   1920384.0  2015   \n",
       "3  ...   28            25     08A   1141706.0   1900086.0  2015   \n",
       "4  ...   21            71      05   1168430.0   1850165.0  2015   \n",
       "\n",
       "                UpdatedOn   Latitude  Longitude                       Location  \n",
       "0  02/10/2018 03:50:01 PM  41.815117 -87.670000  (41.815117282, -87.669999562)  \n",
       "1  02/10/2018 03:50:01 PM  41.895080 -87.765400  (41.895080471, -87.765400451)  \n",
       "2  02/10/2018 03:50:01 PM  41.937406 -87.716650  (41.937405765, -87.716649687)  \n",
       "3  02/10/2018 03:50:01 PM  41.881903 -87.755121  (41.881903443, -87.755121152)  \n",
       "4  02/10/2018 03:50:01 PM  41.744379 -87.658431  (41.744378879, -87.658430635)  \n",
       "\n",
       "[5 rows x 22 columns]"
      ]
     },
     "execution_count": 22,
     "metadata": {},
     "output_type": "execute_result"
    }
   ],
   "source": [
    "df = df.withColumn('Year',year(df.Date))\n",
    "df.limit(10).toPandas().head()"
   ]
  },
  {
   "cell_type": "code",
   "execution_count": 23,
   "id": "f1b6ec76-bcea-474b-94a8-3fbd7a03adbe",
   "metadata": {
    "tags": []
   },
   "outputs": [
    {
     "name": "stdout",
     "output_type": "stream",
     "text": [
      "+----+------+\n",
      "|Year| count|\n",
      "+----+------+\n",
      "|2013|287835|\n",
      "|2014|256127|\n",
      "|2016|248587|\n",
      "|2017|246562|\n",
      "|2018|245308|\n",
      "+----+------+\n",
      "only showing top 5 rows\n",
      "\n"
     ]
    }
   ],
   "source": [
    "df_y = df.groupBy('Year').count().sort(desc(\"count\"))\n",
    "df_y.show(5)"
   ]
  },
  {
   "cell_type": "code",
   "execution_count": 24,
   "id": "f1a02d92-895d-4db9-b287-e9e582a32679",
   "metadata": {
    "tags": []
   },
   "outputs": [],
   "source": [
    "d_y = df_y.toPandas()"
   ]
  },
  {
   "cell_type": "code",
   "execution_count": 35,
   "id": "94b58898-568c-4c51-959e-8c6cff0a6dbc",
   "metadata": {},
   "outputs": [
    {
     "data": {
      "text/plain": [
       "Text(0.5, 1.0, 'Trend of crimes for last 10 years')"
      ]
     },
     "execution_count": 35,
     "metadata": {},
     "output_type": "execute_result"
    },
    {
     "data": {
      "image/png": "[encoded data removed]",
      "text/plain": [
       "<Figure size 1500x700 with 1 Axes>"
      ]
     },
     "metadata": {},
     "output_type": "display_data"
    }
   ],
   "source": [
    "plt.figure(figsize=(15,7))\n",
    "sns.barplot(x = 'Year',y = 'count',data = d_y,color= \"Green\")\n",
    "plt.title(\"Trend of crimes for last 10 years\", size = 20)"
   ]
  },
  {
   "cell_type": "markdown",
   "id": "6600b1e5-e472-4a82-8188-674d9f9f64cc",
   "metadata": {},
   "source": [
    "**Find out at which hour of the day crime is highest.**"
   ]
  },
  {
   "cell_type": "code",
   "execution_count": 26,
   "id": "8fbb282a-7d82-4bfe-b3dd-dd3e4832e923",
   "metadata": {
    "tags": []
   },
   "outputs": [
    {
     "name": "stderr",
     "output_type": "stream",
     "text": [
      "/usr/local/spark/python/pyspark/sql/pandas/conversion.py:248: FutureWarning: Passing unit-less datetime64 dtype to .astype is deprecated and will raise in a future version. Pass 'datetime64[ns]' instead\n",
      "  series = series.astype(t, copy=False)\n"
     ]
    },
    {
     "data": {
      "text/html": [
       "<div>\n",
       "<style scoped>\n",
       "    .dataframe tbody tr th:only-of-type {\n",
       "        vertical-align: middle;\n",
       "    }\n",
       "\n",
       "    .dataframe tbody tr th {\n",
       "        vertical-align: top;\n",
       "    }\n",
       "\n",
       "    .dataframe thead th {\n",
       "        text-align: right;\n",
       "    }\n",
       "</style>\n",
       "<table border=\"1\" class=\"dataframe\">\n",
       "  <thead>\n",
       "    <tr style=\"text-align: right;\">\n",
       "      <th></th>\n",
       "      <th>ID</th>\n",
       "      <th>CaseNumber</th>\n",
       "      <th>Date</th>\n",
       "      <th>Block</th>\n",
       "      <th>IUCR</th>\n",
       "      <th>PrimaryType</th>\n",
       "      <th>Description</th>\n",
       "      <th>LocationDescription</th>\n",
       "      <th>Arrest</th>\n",
       "      <th>Domestic</th>\n",
       "      <th>...</th>\n",
       "      <th>CommunityArea</th>\n",
       "      <th>FBICode</th>\n",
       "      <th>XCoordinate</th>\n",
       "      <th>YCoordinate</th>\n",
       "      <th>Year</th>\n",
       "      <th>UpdatedOn</th>\n",
       "      <th>Latitude</th>\n",
       "      <th>Longitude</th>\n",
       "      <th>Location</th>\n",
       "      <th>Hour</th>\n",
       "    </tr>\n",
       "  </thead>\n",
       "  <tbody>\n",
       "    <tr>\n",
       "      <th>0</th>\n",
       "      <td>10224738</td>\n",
       "      <td>HY411648</td>\n",
       "      <td>2015-09-05 13:30:00</td>\n",
       "      <td>043XX S WOOD ST</td>\n",
       "      <td>0486</td>\n",
       "      <td>BATTERY</td>\n",
       "      <td>DOMESTIC BATTERY SIMPLE</td>\n",
       "      <td>RESIDENCE</td>\n",
       "      <td>False</td>\n",
       "      <td>True</td>\n",
       "      <td>...</td>\n",
       "      <td>61</td>\n",
       "      <td>08B</td>\n",
       "      <td>1165074.0</td>\n",
       "      <td>1875917.0</td>\n",
       "      <td>2015</td>\n",
       "      <td>02/10/2018 03:50:01 PM</td>\n",
       "      <td>41.815117</td>\n",
       "      <td>-87.670000</td>\n",
       "      <td>(41.815117282, -87.669999562)</td>\n",
       "      <td>13</td>\n",
       "    </tr>\n",
       "    <tr>\n",
       "      <th>1</th>\n",
       "      <td>10224739</td>\n",
       "      <td>HY411615</td>\n",
       "      <td>2015-09-04 11:30:00</td>\n",
       "      <td>008XX N CENTRAL AVE</td>\n",
       "      <td>0870</td>\n",
       "      <td>THEFT</td>\n",
       "      <td>POCKET-PICKING</td>\n",
       "      <td>CTA BUS</td>\n",
       "      <td>False</td>\n",
       "      <td>False</td>\n",
       "      <td>...</td>\n",
       "      <td>25</td>\n",
       "      <td>06</td>\n",
       "      <td>1138875.0</td>\n",
       "      <td>1904869.0</td>\n",
       "      <td>2015</td>\n",
       "      <td>02/10/2018 03:50:01 PM</td>\n",
       "      <td>41.895080</td>\n",
       "      <td>-87.765400</td>\n",
       "      <td>(41.895080471, -87.765400451)</td>\n",
       "      <td>11</td>\n",
       "    </tr>\n",
       "    <tr>\n",
       "      <th>2</th>\n",
       "      <td>10224740</td>\n",
       "      <td>HY411595</td>\n",
       "      <td>2015-09-05 12:45:00</td>\n",
       "      <td>035XX W BARRY AVE</td>\n",
       "      <td>2023</td>\n",
       "      <td>NARCOTICS</td>\n",
       "      <td>POSS: HEROIN(BRN/TAN)</td>\n",
       "      <td>SIDEWALK</td>\n",
       "      <td>True</td>\n",
       "      <td>False</td>\n",
       "      <td>...</td>\n",
       "      <td>21</td>\n",
       "      <td>18</td>\n",
       "      <td>1152037.0</td>\n",
       "      <td>1920384.0</td>\n",
       "      <td>2015</td>\n",
       "      <td>02/10/2018 03:50:01 PM</td>\n",
       "      <td>41.937406</td>\n",
       "      <td>-87.716650</td>\n",
       "      <td>(41.937405765, -87.716649687)</td>\n",
       "      <td>12</td>\n",
       "    </tr>\n",
       "    <tr>\n",
       "      <th>3</th>\n",
       "      <td>10224741</td>\n",
       "      <td>HY411610</td>\n",
       "      <td>2015-09-05 13:00:00</td>\n",
       "      <td>0000X N LARAMIE AVE</td>\n",
       "      <td>0560</td>\n",
       "      <td>ASSAULT</td>\n",
       "      <td>SIMPLE</td>\n",
       "      <td>APARTMENT</td>\n",
       "      <td>False</td>\n",
       "      <td>True</td>\n",
       "      <td>...</td>\n",
       "      <td>25</td>\n",
       "      <td>08A</td>\n",
       "      <td>1141706.0</td>\n",
       "      <td>1900086.0</td>\n",
       "      <td>2015</td>\n",
       "      <td>02/10/2018 03:50:01 PM</td>\n",
       "      <td>41.881903</td>\n",
       "      <td>-87.755121</td>\n",
       "      <td>(41.881903443, -87.755121152)</td>\n",
       "      <td>13</td>\n",
       "    </tr>\n",
       "    <tr>\n",
       "      <th>4</th>\n",
       "      <td>10224742</td>\n",
       "      <td>HY411435</td>\n",
       "      <td>2015-09-05 10:55:00</td>\n",
       "      <td>082XX S LOOMIS BLVD</td>\n",
       "      <td>0610</td>\n",
       "      <td>BURGLARY</td>\n",
       "      <td>FORCIBLE ENTRY</td>\n",
       "      <td>RESIDENCE</td>\n",
       "      <td>False</td>\n",
       "      <td>False</td>\n",
       "      <td>...</td>\n",
       "      <td>71</td>\n",
       "      <td>05</td>\n",
       "      <td>1168430.0</td>\n",
       "      <td>1850165.0</td>\n",
       "      <td>2015</td>\n",
       "      <td>02/10/2018 03:50:01 PM</td>\n",
       "      <td>41.744379</td>\n",
       "      <td>-87.658431</td>\n",
       "      <td>(41.744378879, -87.658430635)</td>\n",
       "      <td>10</td>\n",
       "    </tr>\n",
       "  </tbody>\n",
       "</table>\n",
       "<p>5 rows × 23 columns</p>\n",
       "</div>"
      ],
      "text/plain": [
       "         ID CaseNumber                Date                Block  IUCR  \\\n",
       "0  10224738   HY411648 2015-09-05 13:30:00      043XX S WOOD ST  0486   \n",
       "1  10224739   HY411615 2015-09-04 11:30:00  008XX N CENTRAL AVE  0870   \n",
       "2  10224740   HY411595 2015-09-05 12:45:00    035XX W BARRY AVE  2023   \n",
       "3  10224741   HY411610 2015-09-05 13:00:00  0000X N LARAMIE AVE  0560   \n",
       "4  10224742   HY411435 2015-09-05 10:55:00  082XX S LOOMIS BLVD  0610   \n",
       "\n",
       "  PrimaryType              Description LocationDescription  Arrest  Domestic  \\\n",
       "0     BATTERY  DOMESTIC BATTERY SIMPLE           RESIDENCE   False      True   \n",
       "1       THEFT           POCKET-PICKING             CTA BUS   False     False   \n",
       "2   NARCOTICS    POSS: HEROIN(BRN/TAN)            SIDEWALK    True     False   \n",
       "3     ASSAULT                   SIMPLE           APARTMENT   False      True   \n",
       "4    BURGLARY           FORCIBLE ENTRY           RESIDENCE   False     False   \n",
       "\n",
       "   ... CommunityArea FBICode XCoordinate YCoordinate  Year  \\\n",
       "0  ...            61     08B   1165074.0   1875917.0  2015   \n",
       "1  ...            25      06   1138875.0   1904869.0  2015   \n",
       "2  ...            21      18   1152037.0   1920384.0  2015   \n",
       "3  ...            25     08A   1141706.0   1900086.0  2015   \n",
       "4  ...            71      05   1168430.0   1850165.0  2015   \n",
       "\n",
       "                UpdatedOn   Latitude  Longitude  \\\n",
       "0  02/10/2018 03:50:01 PM  41.815117 -87.670000   \n",
       "1  02/10/2018 03:50:01 PM  41.895080 -87.765400   \n",
       "2  02/10/2018 03:50:01 PM  41.937406 -87.716650   \n",
       "3  02/10/2018 03:50:01 PM  41.881903 -87.755121   \n",
       "4  02/10/2018 03:50:01 PM  41.744379 -87.658431   \n",
       "\n",
       "                        Location  Hour  \n",
       "0  (41.815117282, -87.669999562)    13  \n",
       "1  (41.895080471, -87.765400451)    11  \n",
       "2  (41.937405765, -87.716649687)    12  \n",
       "3  (41.881903443, -87.755121152)    13  \n",
       "4  (41.744378879, -87.658430635)    10  \n",
       "\n",
       "[5 rows x 23 columns]"
      ]
     },
     "execution_count": 26,
     "metadata": {},
     "output_type": "execute_result"
    }
   ],
   "source": [
    "df = df.withColumn('Hour',hour(df.Date))\n",
    "df.limit(10).toPandas().head()"
   ]
  },
  {
   "cell_type": "code",
   "execution_count": 27,
   "id": "70079ee3-df06-4978-9f3f-7e8464d755fd",
   "metadata": {
    "tags": []
   },
   "outputs": [
    {
     "name": "stdout",
     "output_type": "stream",
     "text": [
      "+----+------+\n",
      "|Hour| count|\n",
      "+----+------+\n",
      "|  12|139909|\n",
      "+----+------+\n",
      "only showing top 1 row\n",
      "\n"
     ]
    }
   ],
   "source": [
    "df_h = df.groupBy('Hour').count().sort(desc(\"count\"))\n",
    "df_h.show(1)"
   ]
  },
  {
   "cell_type": "markdown",
   "id": "ecbe151a-b2cd-4308-b624-287b802f7eb2",
   "metadata": {},
   "source": [
    "- Hour \"12\" has highest crime rate"
   ]
  },
  {
   "cell_type": "code",
   "execution_count": 28,
   "id": "cafb3f7b-b7ab-4d09-a026-46efa21c1af1",
   "metadata": {
    "tags": []
   },
   "outputs": [],
   "source": [
    "d_h = df_h.toPandas()"
   ]
  },
  {
   "cell_type": "code",
   "execution_count": 34,
   "id": "40128db7-7b5e-464a-99e2-7536de45ab3f",
   "metadata": {
    "tags": []
   },
   "outputs": [
    {
     "data": {
      "text/plain": [
       "Text(0.5, 1.0, 'Most crime happend Hour')"
      ]
     },
     "execution_count": 34,
     "metadata": {},
     "output_type": "execute_result"
    },
    {
     "data": {
      "image/png": "[encoded data removed]",
      "text/plain": [
       "<Figure size 1000x500 with 1 Axes>"
      ]
     },
     "metadata": {},
     "output_type": "display_data"
    }
   ],
   "source": [
    "plt.figure(figsize=(10,5))\n",
    "sns.barplot(x = 'Hour',y = 'count',data = d_h,color= \"Teal\")\n",
    "plt.title(\"Most crime happend Hour\", size = 20)"
   ]
  },
  {
   "cell_type": "markdown",
   "id": "c4377322-7ead-4369-9a9b-9bb5697b7dfc",
   "metadata": {},
   "source": [
    "**Find top ten crimes and present them as a bar chart**"
   ]
  },
  {
   "cell_type": "code",
   "execution_count": 30,
   "id": "a0b2621d-02ef-4826-a0f0-e9f70881d55f",
   "metadata": {
    "tags": []
   },
   "outputs": [
    {
     "name": "stdout",
     "output_type": "stream",
     "text": [
      "+------------------+------+\n",
      "|       PrimaryType| count|\n",
      "+------------------+------+\n",
      "|             THEFT|681868|\n",
      "|           BATTERY|481301|\n",
      "|   CRIMINAL DAMAGE|283407|\n",
      "|           ASSAULT|194022|\n",
      "|DECEPTIVE PRACTICE|158871|\n",
      "+------------------+------+\n",
      "only showing top 5 rows\n",
      "\n"
     ]
    }
   ],
   "source": [
    "df_t = df.groupBy('PrimaryType').count().sort(desc(\"count\"))\n",
    "df_t.show(5)"
   ]
  },
  {
   "cell_type": "code",
   "execution_count": 31,
   "id": "a1f0f5c5-c354-4cce-b2b6-62c6e2e8cbdb",
   "metadata": {
    "tags": []
   },
   "outputs": [],
   "source": [
    "d_t = df_t.toPandas()"
   ]
  },
  {
   "cell_type": "code",
   "execution_count": 32,
   "id": "ec3582e4-0a0c-46ae-b5fb-622df9b403fe",
   "metadata": {
    "tags": []
   },
   "outputs": [],
   "source": [
    "d_t = d_t.head(10)"
   ]
  },
  {
   "cell_type": "code",
   "execution_count": 36,
   "id": "e427592a-9048-4035-a7d9-28984a843b8d",
   "metadata": {
    "tags": []
   },
   "outputs": [
    {
     "data": {
      "text/plain": [
       "Text(0.5, 1.0, 'Top 10 Crime types')"
      ]
     },
     "execution_count": 36,
     "metadata": {},
     "output_type": "execute_result"
    },
    {
     "data": {
      "image/png": "[encoded data removed]",
      "text/plain": [
       "<Figure size 1000x500 with 1 Axes>"
      ]
     },
     "metadata": {},
     "output_type": "display_data"
    }
   ],
   "source": [
    "plt.figure(figsize=(10,5))\n",
    "#sns.barplot(x = 'PrimaryType',y = 'count',data = d_t,color= \"Blue\")\n",
    "plt.barh(d_t['PrimaryType'],d_t['count'])\n",
    "plt.title(\"Top 10 Crime types\", size = 20)"
   ]
  },
  {
   "cell_type": "code",
   "execution_count": null,
   "id": "3ec907b1-90d2-486f-86f5-7b03085fa5ef",
   "metadata": {},
   "outputs": [],
   "source": []
  }
 ],
 "metadata": {
  "kernelspec": {
   "display_name": "Python 3 (ipykernel)",
   "language": "python",
   "name": "python3"
  },
  "language_info": {
   "codemirror_mode": {
    "name": "ipython",
    "version": 3
   },
   "file_extension": ".py",
   "mimetype": "text/x-python",
   "name": "python",
   "nbconvert_exporter": "python",
   "pygments_lexer": "ipython3",
   "version": "3.10.9"
  }
 },
 "nbformat": 4,
 "nbformat_minor": 5
}
